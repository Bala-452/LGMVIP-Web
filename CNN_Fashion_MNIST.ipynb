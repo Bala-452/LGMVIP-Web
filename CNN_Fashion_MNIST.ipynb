{
  "nbformat": 4,
  "nbformat_minor": 0,
  "metadata": {
    "colab": {
      "provenance": [],
      "authorship_tag": "ABX9TyP74iFnCJGG1t4+hd7KtbFS",
      "include_colab_link": true
    },
    "kernelspec": {
      "name": "python3",
      "display_name": "Python 3"
    },
    "language_info": {
      "name": "python"
    }
  },
  "cells": [
    {
      "cell_type": "markdown",
      "metadata": {
        "id": "view-in-github",
        "colab_type": "text"
      },
      "source": [
        "<a href=\"https://colab.research.google.com/github/Bala-452/LGMVIP-Web/blob/main/CNN_Fashion_MNIST.ipynb\" target=\"_parent\"><img src=\"https://colab.research.google.com/assets/colab-badge.svg\" alt=\"Open In Colab\"/></a>"
      ]
    },
    {
      "cell_type": "code",
      "execution_count": null,
      "metadata": {
        "id": "EgRud8IpWNfh"
      },
      "outputs": [],
      "source": [
        "from keras.models import Sequential\n",
        "from keras.layers import Conv2D\n",
        "from keras.layers import MaxPooling2D\n",
        "from keras.layers import Flatten\n",
        "from keras.layers import Dense"
      ]
    },
    {
      "cell_type": "code",
      "source": [
        "import matplotlib.pyplot as plt"
      ],
      "metadata": {
        "id": "YYxa8UusWxfU"
      },
      "execution_count": null,
      "outputs": []
    },
    {
      "cell_type": "code",
      "source": [
        "import tensorflow as tf\n",
        "\n",
        "fashion_mnist = tf.keras.datasets.fashion_mnist.load_data()\n",
        "(X_train_full, y_train_full), (X_test, y_test) = fashion_mnist\n",
        "X_train, y_train = X_train_full[:-5000], y_train_full[:-5000]\n",
        "X_valid, y_valid = X_train_full[-5000:], y_train_full[-5000:]"
      ],
      "metadata": {
        "colab": {
          "base_uri": "https://localhost:8080/"
        },
        "id": "XwrLLbqkXg4E",
        "outputId": "7f43eac1-f16c-441d-d9df-695b306bae7f"
      },
      "execution_count": null,
      "outputs": [
        {
          "output_type": "stream",
          "name": "stdout",
          "text": [
            "Downloading data from https://storage.googleapis.com/tensorflow/tf-keras-datasets/train-labels-idx1-ubyte.gz\n",
            "29515/29515 [==============================] - 0s 0us/step\n",
            "Downloading data from https://storage.googleapis.com/tensorflow/tf-keras-datasets/train-images-idx3-ubyte.gz\n",
            "26421880/26421880 [==============================] - 0s 0us/step\n",
            "Downloading data from https://storage.googleapis.com/tensorflow/tf-keras-datasets/t10k-labels-idx1-ubyte.gz\n",
            "5148/5148 [==============================] - 0s 0us/step\n",
            "Downloading data from https://storage.googleapis.com/tensorflow/tf-keras-datasets/t10k-images-idx3-ubyte.gz\n",
            "4422102/4422102 [==============================] - 0s 0us/step\n"
          ]
        }
      ]
    },
    {
      "cell_type": "code",
      "source": [
        "print(set(y_train_full))"
      ],
      "metadata": {
        "colab": {
          "base_uri": "https://localhost:8080/"
        },
        "id": "rYxCVxc0Xhqo",
        "outputId": "3eb0a891-766a-4d0b-f519-02c777538589"
      },
      "execution_count": null,
      "outputs": [
        {
          "output_type": "stream",
          "name": "stdout",
          "text": [
            "{0, 1, 2, 3, 4, 5, 6, 7, 8, 9}\n"
          ]
        }
      ]
    },
    {
      "cell_type": "code",
      "source": [
        "plt.imshow(X_train[10], cmap=\"binary\")\n",
        "plt.axis('off')\n",
        "plt.show()"
      ],
      "metadata": {
        "colab": {
          "base_uri": "https://localhost:8080/",
          "height": 248
        },
        "id": "V107Nt3tXmTk",
        "outputId": "143071a0-83d9-4419-dfa4-eb1f2c310fff"
      },
      "execution_count": null,
      "outputs": [
        {
          "output_type": "display_data",
          "data": {
            "text/plain": [
              "<Figure size 432x288 with 1 Axes>"
            ],
            "image/png": "[encoded data removed]"
          },
          "metadata": {
            "needs_background": "light"
          }
        }
      ]
    },
    {
      "cell_type": "code",
      "source": [
        "X_train, X_valid, X_test = X_train / 255., X_valid / 255., X_test / 255."
      ],
      "metadata": {
        "id": "nYFgLfFAXplr"
      },
      "execution_count": null,
      "outputs": []
    },
    {
      "cell_type": "code",
      "source": [
        "X_train[0].shape"
      ],
      "metadata": {
        "colab": {
          "base_uri": "https://localhost:8080/"
        },
        "id": "gDzeYxhfXxEY",
        "outputId": "f8a3b6c5-54e6-4bef-ed0d-f837fd95c8f7"
      },
      "execution_count": null,
      "outputs": [
        {
          "output_type": "execute_result",
          "data": {
            "text/plain": [
              "(28, 28)"
            ]
          },
          "metadata": {},
          "execution_count": 8
        }
      ]
    },
    {
      "cell_type": "code",
      "source": [
        "set(y_train_full)"
      ],
      "metadata": {
        "colab": {
          "base_uri": "https://localhost:8080/"
        },
        "id": "Dua1a8l_X1cD",
        "outputId": "57da2393-8750-4e14-97e8-fdd332a2d835"
      },
      "execution_count": null,
      "outputs": [
        {
          "output_type": "execute_result",
          "data": {
            "text/plain": [
              "{0, 1, 2, 3, 4, 5, 6, 7, 8, 9}"
            ]
          },
          "metadata": {},
          "execution_count": 9
        }
      ]
    },
    {
      "cell_type": "code",
      "source": [
        "classifier = Sequential()\n",
        "classifier.add(Conv2D(32, (3, 3), input_shape = (28,28,1), activation = 'relu'))\n",
        "classifier.add(MaxPooling2D(pool_size = (2, 2)))\n",
        "classifier.add(Conv2D(64, (3, 3),  activation = 'relu'))\n",
        "classifier.add(MaxPooling2D(pool_size = (2, 2)))\n",
        "classifier.add(Flatten())\n",
        "classifier.add(Dense(units = 128, activation = 'relu'))\n",
        "classifier.add(Dense(units = 10, activation = 'softmax'))"
      ],
      "metadata": {
        "id": "NSi2_D4wX4Ah"
      },
      "execution_count": null,
      "outputs": []
    },
    {
      "cell_type": "code",
      "source": [
        "classifier.summary()"
      ],
      "metadata": {
        "colab": {
          "base_uri": "https://localhost:8080/"
        },
        "id": "VbqiSS0BX75c",
        "outputId": "d9521e6a-590f-414f-a528-1fc7895ffc67"
      },
      "execution_count": null,
      "outputs": [
        {
          "output_type": "stream",
          "name": "stdout",
          "text": [
            "Model: \"sequential\"\n",
            "_________________________________________________________________\n",
            " Layer (type)                Output Shape              Param #   \n",
            "=================================================================\n",
            " conv2d (Conv2D)             (None, 26, 26, 32)        320       \n",
            "                                                                 \n",
            " max_pooling2d (MaxPooling2D  (None, 13, 13, 32)       0         \n",
            " )                                                               \n",
            "                                                                 \n",
            " conv2d_1 (Conv2D)           (None, 11, 11, 64)        18496     \n",
            "                                                                 \n",
            " max_pooling2d_1 (MaxPooling  (None, 5, 5, 64)         0         \n",
            " 2D)                                                             \n",
            "                                                                 \n",
            " flatten (Flatten)           (None, 1600)              0         \n",
            "                                                                 \n",
            " dense (Dense)               (None, 128)               204928    \n",
            "                                                                 \n",
            " dense_1 (Dense)             (None, 10)                1290      \n",
            "                                                                 \n",
            "=================================================================\n",
            "Total params: 225,034\n",
            "Trainable params: 225,034\n",
            "Non-trainable params: 0\n",
            "_________________________________________________________________\n"
          ]
        }
      ]
    },
    {
      "cell_type": "code",
      "source": [
        "classifier.compile(optimizer = 'adam', loss = 'sparse_categorical_crossentropy', metrics = ['accuracy'])"
      ],
      "metadata": {
        "id": "7JQOxDpnX-mr"
      },
      "execution_count": null,
      "outputs": []
    },
    {
      "cell_type": "code",
      "source": [
        "history=classifier.fit(X_train,y_train,epochs = 3,validation_data = (X_valid,y_valid))"
      ],
      "metadata": {
        "colab": {
          "base_uri": "https://localhost:8080/"
        },
        "id": "_osqLO5BbDYV",
        "outputId": "b757bf7c-5801-4653-e0dc-c1e5e2c8a554"
      },
      "execution_count": null,
      "outputs": [
        {
          "output_type": "stream",
          "name": "stdout",
          "text": [
            "Epoch 1/3\n",
            "1719/1719 [==============================] - 59s 34ms/step - loss: 0.1898 - accuracy: 0.9299 - val_loss: 0.2495 - val_accuracy: 0.9100\n",
            "Epoch 2/3\n",
            "1719/1719 [==============================] - 57s 33ms/step - loss: 0.1678 - accuracy: 0.9372 - val_loss: 0.2419 - val_accuracy: 0.9134\n",
            "Epoch 3/3\n",
            "1719/1719 [==============================] - 57s 33ms/step - loss: 0.1479 - accuracy: 0.9446 - val_loss: 0.2416 - val_accuracy: 0.9162\n"
          ]
        }
      ]
    },
    {
      "cell_type": "code",
      "source": [
        "y_pred_prob=classifier.predict(X_test)\n",
        "y_pred_prob[:10]"
      ],
      "metadata": {
        "colab": {
          "base_uri": "https://localhost:8080/"
        },
        "id": "_1FjMLeWbECe",
        "outputId": "ab38a530-0d8e-46f1-ffb0-c19db4092e9b"
      },
      "execution_count": null,
      "outputs": [
        {
          "output_type": "stream",
          "name": "stdout",
          "text": [
            "313/313 [==============================] - 5s 16ms/step\n"
          ]
        },
        {
          "output_type": "execute_result",
          "data": {
            "text/plain": [
              "array([[2.48365666e-07, 1.07467288e-08, 1.26196980e-07, 4.16600976e-08,\n",
              "        8.04342264e-08, 1.24090759e-03, 1.68407198e-07, 4.21185105e-04,\n",
              "        1.00928887e-07, 9.98337090e-01],\n",
              "       [7.11141593e-06, 1.17903867e-10, 9.99882877e-01, 6.97328275e-08,\n",
              "        9.54777497e-05, 1.30967936e-11, 1.43377256e-05, 1.32762204e-11,\n",
              "        3.23754463e-08, 4.25247615e-11],\n",
              "       [1.74342918e-09, 9.99999940e-01, 1.41280335e-10, 3.00129394e-10,\n",
              "        8.95458707e-10, 1.73441166e-12, 2.19456364e-09, 1.07826786e-14,\n",
              "        2.45662986e-11, 1.05850300e-12],\n",
              "       [4.78111373e-09, 9.99999940e-01, 1.05756426e-09, 6.47616760e-09,\n",
              "        4.87625007e-09, 4.88534734e-12, 1.60092366e-08, 1.13268065e-13,\n",
              "        4.19452494e-12, 6.08592256e-12],\n",
              "       [2.10224003e-01, 3.31217024e-07, 3.29169608e-03, 1.00872922e-03,\n",
              "        1.64404102e-02, 1.95970861e-05, 7.69014418e-01, 5.34256976e-08,\n",
              "        1.81126254e-07, 5.95897916e-07],\n",
              "       [1.84368503e-08, 9.99999702e-01, 2.75682446e-08, 1.76566370e-08,\n",
              "        1.92941707e-09, 1.14002315e-10, 9.75087033e-08, 2.46602673e-12,\n",
              "        1.40156473e-07, 2.83493957e-11],\n",
              "       [9.99212375e-07, 5.44075874e-07, 3.13341676e-04, 4.03267677e-07,\n",
              "        9.97361779e-01, 8.20034429e-10, 2.32300372e-03, 1.82002954e-10,\n",
              "        4.72873261e-08, 1.47451862e-09],\n",
              "       [3.05418303e-04, 7.65049117e-05, 1.89849001e-03, 8.29985482e-04,\n",
              "        3.04618686e-01, 7.53902123e-06, 6.92139924e-01, 7.86483497e-07,\n",
              "        8.86176786e-05, 3.41044506e-05],\n",
              "       [6.51713890e-06, 2.23465989e-07, 9.36213453e-08, 2.56095859e-07,\n",
              "        1.33047038e-07, 9.99449134e-01, 1.15385257e-08, 5.04362513e-04,\n",
              "        3.91573521e-05, 1.65444831e-08],\n",
              "       [5.12628553e-08, 3.22085780e-09, 2.77699542e-07, 2.43493810e-06,\n",
              "        1.27856651e-07, 1.02889853e-05, 1.32065292e-09, 9.99985993e-01,\n",
              "        6.09734457e-07, 2.74999252e-07]], dtype=float32)"
            ]
          },
          "metadata": {},
          "execution_count": 16
        }
      ]
    },
    {
      "cell_type": "code",
      "source": [
        "class_names = [\"T-shirt/top\", \"Trouser\", \"Pullover\", \"Dress\", \"Coat\",\n",
        "               \"Sandal\", \"Shirt\", \"Sneaker\", \"Bag\", \"Ankle boot\"]"
      ],
      "metadata": {
        "id": "zY20kb6LcU5I"
      },
      "execution_count": null,
      "outputs": []
    },
    {
      "cell_type": "code",
      "source": [
        "y_test[:10]"
      ],
      "metadata": {
        "colab": {
          "base_uri": "https://localhost:8080/"
        },
        "id": "RkLKBZDpcZ2W",
        "outputId": "2fd05e50-2206-4687-e1d2-3de5d6cd5e90"
      },
      "execution_count": null,
      "outputs": [
        {
          "output_type": "execute_result",
          "data": {
            "text/plain": [
              "array([9, 2, 1, 1, 6, 1, 4, 6, 5, 7], dtype=uint8)"
            ]
          },
          "metadata": {},
          "execution_count": 18
        }
      ]
    },
    {
      "cell_type": "code",
      "source": [
        "import numpy as np\n",
        "y_pred=[]\n",
        "for i in y_pred_prob:\n",
        "  y_pred.append(np.argmax(i))\n",
        "y_pred[:10]"
      ],
      "metadata": {
        "colab": {
          "base_uri": "https://localhost:8080/"
        },
        "id": "Vl1E2LlDcdBH",
        "outputId": "cbb72ea9-b00b-4583-a9ff-85ef368c9e73"
      },
      "execution_count": null,
      "outputs": [
        {
          "output_type": "execute_result",
          "data": {
            "text/plain": [
              "[9, 2, 1, 1, 6, 1, 4, 6, 5, 7]"
            ]
          },
          "metadata": {},
          "execution_count": 19
        }
      ]
    },
    {
      "cell_type": "code",
      "source": [
        "from sklearn.metrics import confusion_matrix\n",
        "confusion_matrix(y_pred,y_test)"
      ],
      "metadata": {
        "colab": {
          "base_uri": "https://localhost:8080/"
        },
        "id": "RbRsR2oFchjc",
        "outputId": "2bc226b5-6880-4f31-b29c-950748853e5c"
      },
      "execution_count": null,
      "outputs": [
        {
          "output_type": "execute_result",
          "data": {
            "text/plain": [
              "array([[884,   2,  21,   9,   2,   0, 144,   0,   7,   0],\n",
              "       [  2, 983,   1,  12,   1,   0,   2,   0,   1,   0],\n",
              "       [  8,   0, 750,   4,  11,   0,  30,   0,   3,   0],\n",
              "       [ 31,  11,  11, 913,  20,   0,  37,   0,   3,   0],\n",
              "       [  5,   2, 129,  37, 931,   0, 116,   0,   3,   0],\n",
              "       [  3,   0,   0,   0,   0, 980,   0,   9,   4,   5],\n",
              "       [ 64,   1,  88,  23,  35,   0, 667,   0,   8,   1],\n",
              "       [  0,   0,   0,   0,   0,  15,   0, 984,   4,  52],\n",
              "       [  3,   1,   0,   2,   0,   0,   4,   0, 966,   0],\n",
              "       [  0,   0,   0,   0,   0,   5,   0,   7,   1, 942]])"
            ]
          },
          "metadata": {},
          "execution_count": 20
        }
      ]
    },
    {
      "cell_type": "code",
      "source": [
        "from sklearn.metrics import accuracy_score\n",
        "accuracy_score(y_pred,y_test)"
      ],
      "metadata": {
        "colab": {
          "base_uri": "https://localhost:8080/"
        },
        "id": "b-uYeA8_cm0g",
        "outputId": "dd384d0f-ac99-4933-c08c-564b4897f3c4"
      },
      "execution_count": null,
      "outputs": [
        {
          "output_type": "execute_result",
          "data": {
            "text/plain": [
              "0.9"
            ]
          },
          "metadata": {},
          "execution_count": 21
        }
      ]
    },
    {
      "cell_type": "code",
      "source": [
        "classifier.evaluate(X_test,y_test)"
      ],
      "metadata": {
        "colab": {
          "base_uri": "https://localhost:8080/"
        },
        "id": "AuIlTqdWcq1g",
        "outputId": "d341a3a6-9368-43a4-8dbd-1ceb869df75f"
      },
      "execution_count": null,
      "outputs": [
        {
          "output_type": "stream",
          "name": "stdout",
          "text": [
            "313/313 [==============================] - 6s 18ms/step - loss: 0.2777 - accuracy: 0.9000\n"
          ]
        },
        {
          "output_type": "execute_result",
          "data": {
            "text/plain": [
              "[0.277660071849823, 0.8999999761581421]"
            ]
          },
          "metadata": {},
          "execution_count": 22
        }
      ]
    }
  ]
}