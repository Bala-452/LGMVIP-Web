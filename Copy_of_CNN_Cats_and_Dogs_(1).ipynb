{
  "cells": [
    {
      "cell_type": "markdown",
      "metadata": {
        "id": "view-in-github",
        "colab_type": "text"
      },
      "source": [
        "<a href=\"https://colab.research.google.com/github/Bala-452/LGMVIP-Web/blob/main/Copy_of_CNN_Cats_and_Dogs_(1).ipynb\" target=\"_parent\"><img src=\"https://colab.research.google.com/assets/colab-badge.svg\" alt=\"Open In Colab\"/></a>"
      ]
    },
    {
      "cell_type": "markdown",
      "metadata": {
        "id": "KBIpjEBDHaMS"
      },
      "source": [
        "# 01 : Frame the Problem"
      ]
    },
    {
      "cell_type": "code",
      "execution_count": null,
      "metadata": {
        "id": "w6v-8GwxyS7m"
      },
      "outputs": [],
      "source": [
        "from keras.models import Sequential\n",
        "from keras.layers import Conv2D\n",
        "from keras.layers import MaxPooling2D\n",
        "from keras.layers import Flatten\n",
        "from keras.layers import Dense"
      ]
    },
    {
      "cell_type": "code",
      "execution_count": null,
      "metadata": {
        "colab": {
          "base_uri": "https://localhost:8080/"
        },
        "id": "CJ7xfKi8brHf",
        "outputId": "d815cfda-5c1b-48ff-ffa9-eaea83906187"
      },
      "outputs": [
        {
          "name": "stdout",
          "output_type": "stream",
          "text": [
            "[name: \"/device:CPU:0\"\n",
            "device_type: \"CPU\"\n",
            "memory_limit: 268435456\n",
            "locality {\n",
            "}\n",
            "incarnation: 9111827197530383778\n",
            "xla_global_id: -1\n",
            ", name: \"/device:GPU:0\"\n",
            "device_type: \"GPU\"\n",
            "memory_limit: 14343274496\n",
            "locality {\n",
            "  bus_id: 1\n",
            "  links {\n",
            "  }\n",
            "}\n",
            "incarnation: 11280540407985676449\n",
            "physical_device_desc: \"device: 0, name: Tesla T4, pci bus id: 0000:00:04.0, compute capability: 7.5\"\n",
            "xla_global_id: 416903419\n",
            "]\n"
          ]
        }
      ],
      "source": [
        "from tensorflow.python.client import device_lib\n",
        "print(device_lib.list_local_devices())"
      ]
    },
    {
      "cell_type": "markdown",
      "metadata": {
        "id": "c7oRxXGbHaMT"
      },
      "source": [
        "# 02 : Obtaining the Data"
      ]
    },
    {
      "cell_type": "code",
      "execution_count": null,
      "metadata": {
        "colab": {
          "base_uri": "https://localhost:8080/"
        },
        "id": "S5Mzrytp64X_",
        "outputId": "37bd6042-20f3-4625-f574-4f982cf54c0f"
      },
      "outputs": [
        {
          "name": "stdout",
          "output_type": "stream",
          "text": [
            "total 4\n",
            "drwxr-xr-x 1 root root 4096 Mar 30 13:53 \u001b[0m\u001b[01;34msample_data\u001b[0m/\n"
          ]
        }
      ],
      "source": [
        "ls -l"
      ]
    },
    {
      "cell_type": "code",
      "execution_count": null,
      "metadata": {
        "colab": {
          "base_uri": "https://localhost:8080/"
        },
        "id": "N2eN-waRyXKZ",
        "outputId": "31f8e436-9c4d-41bc-8418-330cd8b5bd2c"
      },
      "outputs": [
        {
          "name": "stdout",
          "output_type": "stream",
          "text": [
            "--2023-04-02 04:09:34--  https://www.dropbox.com/s/avul1qk8eeaqebo/dataset.zip\n",
            "Resolving www.dropbox.com (www.dropbox.com)... 162.125.1.18, 2620:100:6016:18::a27d:112\n",
            "Connecting to www.dropbox.com (www.dropbox.com)|162.125.1.18|:443... connected.\n",
            "HTTP request sent, awaiting response... 302 Found\n",
            "Location: /s/raw/avul1qk8eeaqebo/dataset.zip [following]\n",
            "--2023-04-02 04:09:35--  https://www.dropbox.com/s/raw/avul1qk8eeaqebo/dataset.zip\n",
            "Reusing existing connection to www.dropbox.com:443.\n",
            "HTTP request sent, awaiting response... 302 Found\n",
            "Location: https://uc58155385a0b2664be290d8f136.dl.dropboxusercontent.com/cd/0/inline/B5b5Ted3sIObFn2Z9NrYlCjRTomicREo8p2VVGPOjfdWtp3ySEIEhMUmX2m_5XnGJzux2e86CphyTo6z1Qb-0WptghvS8i7OU5eNZ3-RCd8CCOJ54fhRH7Z_hOz93HsXo_5wkmZxvBQQjVUDEySheTq2E52EUK9QxG9R0-x7iXFPKA/file# [following]\n",
            "--2023-04-02 04:09:35--  https://uc58155385a0b2664be290d8f136.dl.dropboxusercontent.com/cd/0/inline/B5b5Ted3sIObFn2Z9NrYlCjRTomicREo8p2VVGPOjfdWtp3ySEIEhMUmX2m_5XnGJzux2e86CphyTo6z1Qb-0WptghvS8i7OU5eNZ3-RCd8CCOJ54fhRH7Z_hOz93HsXo_5wkmZxvBQQjVUDEySheTq2E52EUK9QxG9R0-x7iXFPKA/file\n",
            "Resolving uc58155385a0b2664be290d8f136.dl.dropboxusercontent.com (uc58155385a0b2664be290d8f136.dl.dropboxusercontent.com)... 162.125.1.15, 2620:100:6021:15::a27d:410f\n",
            "Connecting to uc58155385a0b2664be290d8f136.dl.dropboxusercontent.com (uc58155385a0b2664be290d8f136.dl.dropboxusercontent.com)|162.125.1.15|:443... connected.\n",
            "HTTP request sent, awaiting response... 302 Found\n",
            "Location: /cd/0/inline2/B5Z9Ec0QNzaAhqiNgQgpMBVhRWcz6U3gSO5UId3qm7IQ6X6bwVBGIPzfrcaR42vJBiIeE9UL4bqNOoMZgwVEjXMEVoUFZdOsrIaSh-COZF2gkxwgU7xcmWiZhOX8S4pG6JJ3MpQlXdtWNhfKOaGwMT6yhpxEVOmQULfsYFwEsP8VIFRFhNtD_eVgqyQRgGTwu6_ikaU4wnDzKxdtoF1XyekI7Nb1VP9LVvXg4nmvwwNbLPELri0aod5-x_UM6-3trsOqpDL90cQCCRquGoN0w59Zzne-pqth1QFoMqpCvWnMA1Ws36kXKHMSNNw1E0gKVe__N8b8cudkN7F153DQcy3ptdQ0MU7O3X1_8xO-guojwG6R-ZvI2ffzUOSq6cV649cQ4F_2ApPjf5q0rQ9wDaZpKPhoasLY6wUlOA-hwcMLMQ/file [following]\n",
            "--2023-04-02 04:09:36--  https://uc58155385a0b2664be290d8f136.dl.dropboxusercontent.com/cd/0/inline2/B5Z9Ec0QNzaAhqiNgQgpMBVhRWcz6U3gSO5UId3qm7IQ6X6bwVBGIPzfrcaR42vJBiIeE9UL4bqNOoMZgwVEjXMEVoUFZdOsrIaSh-COZF2gkxwgU7xcmWiZhOX8S4pG6JJ3MpQlXdtWNhfKOaGwMT6yhpxEVOmQULfsYFwEsP8VIFRFhNtD_eVgqyQRgGTwu6_ikaU4wnDzKxdtoF1XyekI7Nb1VP9LVvXg4nmvwwNbLPELri0aod5-x_UM6-3trsOqpDL90cQCCRquGoN0w59Zzne-pqth1QFoMqpCvWnMA1Ws36kXKHMSNNw1E0gKVe__N8b8cudkN7F153DQcy3ptdQ0MU7O3X1_8xO-guojwG6R-ZvI2ffzUOSq6cV649cQ4F_2ApPjf5q0rQ9wDaZpKPhoasLY6wUlOA-hwcMLMQ/file\n",
            "Reusing existing connection to uc58155385a0b2664be290d8f136.dl.dropboxusercontent.com:443.\n",
            "HTTP request sent, awaiting response... 200 OK\n",
            "Length: 227353580 (217M) [application/zip]\n",
            "Saving to: ‘dataset.zip’\n",
            "\n",
            "dataset.zip         100%[===================>] 216.82M  41.9MB/s    in 5.6s    \n",
            "\n",
            "2023-04-02 04:09:42 (38.8 MB/s) - ‘dataset.zip’ saved [227353580/227353580]\n",
            "\n"
          ]
        }
      ],
      "source": [
        "!wget https://www.dropbox.com/s/avul1qk8eeaqebo/dataset.zip"
      ]
    },
    {
      "cell_type": "code",
      "execution_count": null,
      "metadata": {
        "colab": {
          "base_uri": "https://localhost:8080/"
        },
        "id": "1gbdlYboyi4W",
        "outputId": "53ddc13c-f67f-4ba4-9f93-af6302000584"
      },
      "outputs": [
        {
          "name": "stdout",
          "output_type": "stream",
          "text": [
            "total 222032\n",
            "-rw-r--r-- 1 root root 227353580 Apr  2 04:09 dataset.zip\n",
            "drwxr-xr-x 1 root root      4096 Mar 30 13:53 \u001b[0m\u001b[01;34msample_data\u001b[0m/\n"
          ]
        }
      ],
      "source": [
        "ls -l"
      ]
    },
    {
      "cell_type": "markdown",
      "metadata": {
        "id": "YmYDwM71ogT2"
      },
      "source": []
    },
    {
      "cell_type": "code",
      "execution_count": null,
      "metadata": {
        "id": "TicydoyRqDqj"
      },
      "outputs": [],
      "source": [
        "!unzip dataset.zip >> 0"
      ]
    },
    {
      "cell_type": "code",
      "execution_count": null,
      "metadata": {
        "colab": {
          "base_uri": "https://localhost:8080/"
        },
        "id": "XxXen4aryic8",
        "outputId": "fa2057de-6efe-41b7-c15b-b6cfc5b8792f"
      },
      "outputs": [
        {
          "name": "stdout",
          "output_type": "stream",
          "text": [
            "total 222556\n",
            "-rw-r--r-- 1 root root    522131 Apr  2 04:09 0\n",
            "drwxr-xr-x 5 root root      4096 Jun  6  2018 dataset\n",
            "-rw-r--r-- 1 root root 227353580 Apr  2 04:09 dataset.zip\n",
            "drwxrwxr-x 3 root root      4096 Aug  9  2018 __MACOSX\n",
            "drwxr-xr-x 1 root root      4096 Mar 30 13:53 sample_data\n"
          ]
        }
      ],
      "source": [
        "!ls -l"
      ]
    },
    {
      "cell_type": "code",
      "execution_count": null,
      "metadata": {
        "colab": {
          "base_uri": "https://localhost:8080/"
        },
        "id": "LVl0MQ3g0qoo",
        "outputId": "cff86ab7-1cf9-41c0-dd0a-dacb1ed8f224"
      },
      "outputs": [
        {
          "name": "stdout",
          "output_type": "stream",
          "text": [
            "total 20K\n",
            "drwxr-xr-x 5 root root 4.0K Jun  6  2018 .\n",
            "drwxr-xr-x 1 root root 4.0K Apr  2 04:09 ..\n",
            "-rw-r--r-- 1 root root    0 Jun  6  2018 Icon\n",
            "drwxr-xr-x 2 root root 4.0K Jun  7  2018 single_prediction\n",
            "drwxr-xr-x 4 root root 4.0K Jun  6  2018 test_set\n",
            "drwxr-xr-x 4 root root 4.0K Jun  6  2018 training_set\n"
          ]
        }
      ],
      "source": [
        "!ls -alh dataset"
      ]
    },
    {
      "cell_type": "code",
      "execution_count": null,
      "metadata": {
        "colab": {
          "base_uri": "https://localhost:8080/"
        },
        "id": "i9Jrnm0T0vsB",
        "outputId": "b04147cc-576c-4e2e-d0de-42a022dfe403"
      },
      "outputs": [
        {
          "name": "stdout",
          "output_type": "stream",
          "text": [
            "total 276K\n",
            "drwxr-xr-x 4 root root 4.0K Jun  6  2018 .\n",
            "drwxr-xr-x 5 root root 4.0K Jun  6  2018 ..\n",
            "drwxr-xr-x 2 root root 132K Aug  9  2018 cats\n",
            "drwxr-xr-x 2 root root 132K Aug  9  2018 dogs\n",
            "-rw-r--r-- 1 root root    0 Jun  6  2018 Icon\n"
          ]
        }
      ],
      "source": [
        "!ls -alh dataset/training_set/"
      ]
    },
    {
      "cell_type": "code",
      "execution_count": null,
      "metadata": {
        "colab": {
          "base_uri": "https://localhost:8080/"
        },
        "id": "xUPSiTLD08xU",
        "outputId": "d51215f8-35e1-4220-c7af-91ba2800a76e"
      },
      "outputs": [
        {
          "name": "stdout",
          "output_type": "stream",
          "text": [
            "total 80K\n",
            "drwxr-xr-x 4 root root 4.0K Jun  6  2018 .\n",
            "drwxr-xr-x 5 root root 4.0K Jun  6  2018 ..\n",
            "drwxr-xr-x 2 root root  36K Aug  9  2018 cats\n",
            "drwxr-xr-x 2 root root  36K Aug  9  2018 dogs\n",
            "-rw-r--r-- 1 root root    0 Jun  6  2018 Icon\n"
          ]
        }
      ],
      "source": [
        "!ls -alh dataset/test_set/"
      ]
    },
    {
      "cell_type": "markdown",
      "metadata": {
        "id": "00wtzURRsGhm"
      },
      "source": [
        "# 04 : Feature Engineering"
      ]
    },
    {
      "cell_type": "code",
      "execution_count": null,
      "metadata": {
        "id": "ibyyAFN_yS8X"
      },
      "outputs": [],
      "source": [
        "from keras.preprocessing.image import ImageDataGenerator"
      ]
    },
    {
      "cell_type": "code",
      "execution_count": null,
      "metadata": {
        "id": "18_0bOw-yS8b"
      },
      "outputs": [],
      "source": [
        "train_datagen = ImageDataGenerator(rescale = 1./255,\n",
        "                                   shear_range = 0.2,\n",
        "                                   zoom_range = 0.2,\n",
        "                                   horizontal_flip = True)"
      ]
    },
    {
      "cell_type": "code",
      "execution_count": null,
      "metadata": {
        "id": "breVxyxnaKkC"
      },
      "outputs": [],
      "source": [
        "test_datagen = ImageDataGenerator(rescale = 1./255)"
      ]
    },
    {
      "cell_type": "code",
      "execution_count": null,
      "metadata": {
        "colab": {
          "base_uri": "https://localhost:8080/"
        },
        "id": "r27CJS5H_l8J",
        "outputId": "fa729559-326d-49c9-85b2-39cf36df315e"
      },
      "outputs": [
        {
          "name": "stdout",
          "output_type": "stream",
          "text": [
            "total 222556\n",
            "-rw-r--r-- 1 root root    522131 Apr  2 04:09 0\n",
            "drwxr-xr-x 5 root root      4096 Jun  6  2018 \u001b[0m\u001b[01;34mdataset\u001b[0m/\n",
            "-rw-r--r-- 1 root root 227353580 Apr  2 04:09 dataset.zip\n",
            "drwxrwxr-x 3 root root      4096 Aug  9  2018 \u001b[01;34m__MACOSX\u001b[0m/\n",
            "drwxr-xr-x 1 root root      4096 Mar 30 13:53 \u001b[01;34msample_data\u001b[0m/\n"
          ]
        }
      ],
      "source": [
        "ls -l"
      ]
    },
    {
      "cell_type": "code",
      "execution_count": null,
      "metadata": {
        "colab": {
          "base_uri": "https://localhost:8080/"
        },
        "id": "jnzTkrO9_tI5",
        "outputId": "e7be2000-a33c-414b-bd05-bc4b9ea7a736"
      },
      "outputs": [
        {
          "name": "stdout",
          "output_type": "stream",
          "text": [
            "/content/dataset\n"
          ]
        }
      ],
      "source": [
        "cd dataset/\n"
      ]
    },
    {
      "cell_type": "code",
      "execution_count": null,
      "metadata": {
        "colab": {
          "base_uri": "https://localhost:8080/"
        },
        "id": "AhCXNE1z_xmg",
        "outputId": "7d2e2169-d759-401d-f376-f73e08614cf3"
      },
      "outputs": [
        {
          "name": "stdout",
          "output_type": "stream",
          "text": [
            "total 12\n",
            "-rw-r--r-- 1 root root    0 Jun  6  2018 Icon\n",
            "drwxr-xr-x 2 root root 4096 Jun  7  2018 \u001b[0m\u001b[01;34msingle_prediction\u001b[0m/\n",
            "drwxr-xr-x 4 root root 4096 Jun  6  2018 \u001b[01;34mtest_set\u001b[0m/\n",
            "drwxr-xr-x 4 root root 4096 Jun  6  2018 \u001b[01;34mtraining_set\u001b[0m/\n"
          ]
        }
      ],
      "source": [
        "ls -l"
      ]
    },
    {
      "cell_type": "code",
      "execution_count": null,
      "metadata": {
        "colab": {
          "base_uri": "https://localhost:8080/"
        },
        "id": "ArInNuEK_3vF",
        "outputId": "e484e5d3-247d-43b5-8922-04db0f426b91"
      },
      "outputs": [
        {
          "name": "stdout",
          "output_type": "stream",
          "text": [
            "/content/dataset/training_set\n"
          ]
        }
      ],
      "source": [
        "cd training_set"
      ]
    },
    {
      "cell_type": "code",
      "execution_count": null,
      "metadata": {
        "colab": {
          "base_uri": "https://localhost:8080/"
        },
        "id": "NrLY7MTV_7Ve",
        "outputId": "10be9877-18e8-479b-b985-90f0770f07ee"
      },
      "outputs": [
        {
          "name": "stdout",
          "output_type": "stream",
          "text": [
            "total 12\n",
            "-rw-r--r-- 1 root root    0 Jun  6  2018 Icon\n",
            "drwxr-xr-x 2 root root 4096 Jun  7  2018 \u001b[0m\u001b[01;34msingle_prediction\u001b[0m/\n",
            "drwxr-xr-x 4 root root 4096 Jun  6  2018 \u001b[01;34mtest_set\u001b[0m/\n",
            "drwxr-xr-x 4 root root 4096 Jun  6  2018 \u001b[01;34mtraining_set\u001b[0m/\n"
          ]
        }
      ],
      "source": [
        "ls -l"
      ]
    },
    {
      "cell_type": "code",
      "execution_count": null,
      "metadata": {
        "colab": {
          "base_uri": "https://localhost:8080/"
        },
        "id": "yz3OiOMxY6K_",
        "outputId": "4237d55a-2ea7-4d2c-e57a-d5dc99a36f59"
      },
      "outputs": [
        {
          "name": "stdout",
          "output_type": "stream",
          "text": [
            "[Errno 2] No such file or directory: 'cats/'\n",
            "/content/dataset\n"
          ]
        }
      ],
      "source": [
        "cd cats/"
      ]
    },
    {
      "cell_type": "code",
      "execution_count": null,
      "metadata": {
        "id": "AAMsvO7uY-RM"
      },
      "outputs": [],
      "source": [
        "ls"
      ]
    },
    {
      "cell_type": "code",
      "execution_count": null,
      "metadata": {
        "colab": {
          "base_uri": "https://localhost:8080/"
        },
        "id": "E_6lh_veAHxp",
        "outputId": "ecef4c5e-3bb7-4908-bf0d-40194592e7df"
      },
      "outputs": [
        {
          "name": "stdout",
          "output_type": "stream",
          "text": [
            "/content\n"
          ]
        }
      ],
      "source": [
        "cd /content"
      ]
    },
    {
      "cell_type": "code",
      "execution_count": null,
      "metadata": {
        "colab": {
          "base_uri": "https://localhost:8080/"
        },
        "id": "MhaskYJLAbjw",
        "outputId": "e9b26a45-1ef8-4a30-a0cd-740b2b4e896d"
      },
      "outputs": [
        {
          "name": "stdout",
          "output_type": "stream",
          "text": [
            "0  \u001b[0m\u001b[01;34mdataset\u001b[0m/  dataset.zip  \u001b[01;34m__MACOSX\u001b[0m/  \u001b[01;34msample_data\u001b[0m/\n"
          ]
        }
      ],
      "source": [
        "ls"
      ]
    },
    {
      "cell_type": "code",
      "execution_count": null,
      "metadata": {
        "colab": {
          "base_uri": "https://localhost:8080/"
        },
        "id": "ofSPRl11yS8j",
        "outputId": "3f02f703-559a-45b4-b9b9-ce78e975c768"
      },
      "outputs": [
        {
          "name": "stdout",
          "output_type": "stream",
          "text": [
            "Found 7863 images belonging to 2 classes.\n"
          ]
        }
      ],
      "source": [
        "training_set = train_datagen.flow_from_directory('dataset/training_set',\n",
        "                                                 target_size = (64, 64),\n",
        "                                                 batch_size = 32,\n",
        "                                                 class_mode = 'binary')"
      ]
    },
    {
      "cell_type": "code",
      "execution_count": null,
      "metadata": {
        "colab": {
          "base_uri": "https://localhost:8080/"
        },
        "id": "_1QLO9dYyS8p",
        "outputId": "ad4816fb-c6b2-47cd-d1d6-2de572d6068f"
      },
      "outputs": [
        {
          "name": "stdout",
          "output_type": "stream",
          "text": [
            "Found 1955 images belonging to 2 classes.\n"
          ]
        }
      ],
      "source": [
        "test_set = test_datagen.flow_from_directory('dataset/test_set',\n",
        "                                            target_size = (64, 64),\n",
        "                                            batch_size = 32,\n",
        "                                            class_mode = 'binary')"
      ]
    },
    {
      "cell_type": "markdown",
      "metadata": {
        "id": "4wW8IjBwHaM3"
      },
      "source": [
        "# 05 : Model Selection"
      ]
    },
    {
      "cell_type": "code",
      "execution_count": null,
      "metadata": {
        "id": "BZRXN6HDyS71"
      },
      "outputs": [],
      "source": [
        "classifier = Sequential()"
      ]
    },
    {
      "cell_type": "code",
      "execution_count": null,
      "metadata": {
        "id": "ztT7pzxEyS75"
      },
      "outputs": [],
      "source": [
        "classifier.add(Conv2D(32, (3, 3), input_shape = (64, 64, 3), activation = 'relu'))"
      ]
    },
    {
      "cell_type": "code",
      "execution_count": null,
      "metadata": {
        "id": "23qBIcWmyS7-"
      },
      "outputs": [],
      "source": [
        "classifier.add(MaxPooling2D(pool_size = (2, 2)))"
      ]
    },
    {
      "cell_type": "code",
      "execution_count": null,
      "metadata": {
        "id": "VviGWzsbCBRl"
      },
      "outputs": [],
      "source": [
        "classifier.add(Conv2D(64, (3, 3),  activation = 'relu'))\n",
        "classifier.add(MaxPooling2D(pool_size = (2, 2)))"
      ]
    },
    {
      "cell_type": "code",
      "execution_count": null,
      "metadata": {
        "id": "ds6orzLPyS8D"
      },
      "outputs": [],
      "source": [
        "classifier.add(Flatten())"
      ]
    },
    {
      "cell_type": "code",
      "execution_count": null,
      "metadata": {
        "id": "no3RMcgCyS8I"
      },
      "outputs": [],
      "source": [
        "classifier.add(Dense(units = 128, activation = 'relu'))\n",
        "classifier.add(Dense(units = 1, activation = 'sigmoid'))"
      ]
    },
    {
      "cell_type": "code",
      "execution_count": null,
      "metadata": {
        "colab": {
          "base_uri": "https://localhost:8080/"
        },
        "id": "hEg7-d3HqpSi",
        "outputId": "cda384b1-10fb-46fc-e529-4694569f940f"
      },
      "outputs": [
        {
          "name": "stdout",
          "output_type": "stream",
          "text": [
            "Model: \"sequential\"\n",
            "_________________________________________________________________\n",
            " Layer (type)                Output Shape              Param #   \n",
            "=================================================================\n",
            " conv2d (Conv2D)             (None, 62, 62, 32)        896       \n",
            "                                                                 \n",
            " max_pooling2d (MaxPooling2D  (None, 31, 31, 32)       0         \n",
            " )                                                               \n",
            "                                                                 \n",
            " conv2d_1 (Conv2D)           (None, 29, 29, 64)        18496     \n",
            "                                                                 \n",
            " max_pooling2d_1 (MaxPooling  (None, 14, 14, 64)       0         \n",
            " 2D)                                                             \n",
            "                                                                 \n",
            " flatten (Flatten)           (None, 12544)             0         \n",
            "                                                                 \n",
            "=================================================================\n",
            "Total params: 19,392\n",
            "Trainable params: 19,392\n",
            "Non-trainable params: 0\n",
            "_________________________________________________________________\n"
          ]
        }
      ],
      "source": [
        "classifier.summary()"
      ]
    },
    {
      "cell_type": "code",
      "execution_count": null,
      "metadata": {
        "id": "4pX0AQogyS8N"
      },
      "outputs": [],
      "source": [
        "classifier.compile(optimizer = 'adam', loss = 'binary_crossentropy', metrics = ['accuracy'])"
      ]
    },
    {
      "cell_type": "markdown",
      "metadata": {
        "id": "2t1SHQbsyS8U"
      },
      "source": [
        "### Step 8: Image Data Generation"
      ]
    },
    {
      "cell_type": "markdown",
      "metadata": {
        "id": "fYKxaG20yS8t"
      },
      "source": [
        "# Step 6: Fitting and Prediction"
      ]
    },
    {
      "cell_type": "code",
      "execution_count": null,
      "metadata": {
        "colab": {
          "background_save": true,
          "base_uri": "https://localhost:8080/"
        },
        "id": "TfHDn3vqyS8v",
        "outputId": "8bb9347c-1fa9-4a46-b825-57bb3397d553"
      },
      "outputs": [
        {
          "name": "stderr",
          "output_type": "stream",
          "text": [
            "<ipython-input-31-cbea5be36d0b>:1: UserWarning: `Model.fit_generator` is deprecated and will be removed in a future version. Please use `Model.fit`, which supports generators.\n",
            "  classifier.fit_generator(training_set,\n"
          ]
        },
        {
          "name": "stdout",
          "output_type": "stream",
          "text": [
            "Epoch 1/10\n",
            "100/100 [==============================] - 24s 135ms/step - loss: 0.9046 - accuracy: 0.0000e+00 - val_loss: 0.7662 - val_accuracy: 0.0000e+00\n",
            "Epoch 2/10\n",
            "100/100 [==============================] - 15s 145ms/step - loss: 0.6924 - accuracy: 6.2500e-04 - val_loss: 0.6996 - val_accuracy: 0.0000e+00\n",
            "Epoch 3/10\n",
            "100/100 [==============================] - 13s 133ms/step - loss: 0.6901 - accuracy: 0.0000e+00 - val_loss: 0.6832 - val_accuracy: 0.0000e+00\n",
            "Epoch 4/10\n",
            "100/100 [==============================] - 13s 130ms/step - loss: 0.6861 - accuracy: 0.0000e+00 - val_loss: 0.6908 - val_accuracy: 0.0000e+00\n",
            "Epoch 5/10\n",
            "100/100 [==============================] - 13s 133ms/step - loss: 0.6939 - accuracy: 3.1250e-04 - val_loss: 0.6898 - val_accuracy: 0.0000e+00\n",
            "Epoch 6/10\n",
            "100/100 [==============================] - 13s 133ms/step - loss: 0.6863 - accuracy: 3.1250e-04 - val_loss: 0.6861 - val_accuracy: 0.0000e+00\n",
            "Epoch 7/10\n",
            "100/100 [==============================] - 13s 129ms/step - loss: 0.6847 - accuracy: 0.0000e+00 - val_loss: 0.7003 - val_accuracy: 0.0000e+00\n",
            "Epoch 8/10\n",
            "100/100 [==============================] - 15s 146ms/step - loss: 0.6837 - accuracy: 0.0000e+00 - val_loss: 0.6872 - val_accuracy: 0.0000e+00\n",
            "Epoch 9/10\n",
            "100/100 [==============================] - 13s 128ms/step - loss: 0.6876 - accuracy: 0.0000e+00 - val_loss: 0.6865 - val_accuracy: 0.0000e+00\n",
            "Epoch 10/10\n",
            "100/100 [==============================] - 13s 132ms/step - loss: 0.6833 - accuracy: 0.0000e+00 - val_loss: 0.6989 - val_accuracy: 0.0000e+00\n"
          ]
        },
        {
          "data": {
            "text/plain": [
              "<keras.callbacks.History at 0x7f147a001b50>"
            ]
          },
          "execution_count": 31,
          "metadata": {},
          "output_type": "execute_result"
        }
      ],
      "source": [
        "classifier.fit_generator(training_set,\n",
        "                         steps_per_epoch = 100,\n",
        "                         epochs = 10,\n",
        "                         validation_data = test_set,\n",
        "                         validation_steps = 10)"
      ]
    },
    {
      "cell_type": "code",
      "execution_count": null,
      "metadata": {
        "id": "HIH41s-N4CHd"
      },
      "outputs": [],
      "source": [
        "classifier.get_weights()"
      ]
    },
    {
      "cell_type": "code",
      "execution_count": null,
      "metadata": {
        "colab": {
          "base_uri": "https://localhost:8080/",
          "height": 38
        },
        "id": "ETnqlhPVyr4p",
        "outputId": "05a04ea2-8369-4a67-9ad7-2f548ea047cd"
      },
      "outputs": [
        {
          "data": {
            "text/html": [
              "\n",
              "     <input type=\"file\" id=\"files-60573478-e018-4b1e-b55c-d3a2a950990e\" name=\"files[]\" multiple disabled\n",
              "        style=\"border:none\" />\n",
              "     <output id=\"result-60573478-e018-4b1e-b55c-d3a2a950990e\">\n",
              "      Upload widget is only available when the cell has been executed in the\n",
              "      current browser session. Please rerun this cell to enable.\n",
              "      </output>\n",
              "      <script>// Copyright 2017 Google LLC\n",
              "//\n",
              "// Licensed under the Apache License, Version 2.0 (the \"License\");\n",
              "// you may not use this file except in compliance with the License.\n",
              "// You may obtain a copy of the License at\n",
              "//\n",
              "//      http://www.apache.org/licenses/LICENSE-2.0\n",
              "//\n",
              "// Unless required by applicable law or agreed to in writing, software\n",
              "// distributed under the License is distributed on an \"AS IS\" BASIS,\n",
              "// WITHOUT WARRANTIES OR CONDITIONS OF ANY KIND, either express or implied.\n",
              "// See the License for the specific language governing permissions and\n",
              "// limitations under the License.\n",
              "\n",
              "/**\n",
              " * @fileoverview Helpers for google.colab Python module.\n",
              " */\n",
              "(function(scope) {\n",
              "function span(text, styleAttributes = {}) {\n",
              "  const element = document.createElement('span');\n",
              "  element.textContent = text;\n",
              "  for (const key of Object.keys(styleAttributes)) {\n",
              "    element.style[key] = styleAttributes[key];\n",
              "  }\n",
              "  return element;\n",
              "}\n",
              "\n",
              "// Max number of bytes which will be uploaded at a time.\n",
              "const MAX_PAYLOAD_SIZE = 100 * 1024;\n",
              "\n",
              "function _uploadFiles(inputId, outputId) {\n",
              "  const steps = uploadFilesStep(inputId, outputId);\n",
              "  const outputElement = document.getElementById(outputId);\n",
              "  // Cache steps on the outputElement to make it available for the next call\n",
              "  // to uploadFilesContinue from Python.\n",
              "  outputElement.steps = steps;\n",
              "\n",
              "  return _uploadFilesContinue(outputId);\n",
              "}\n",
              "\n",
              "// This is roughly an async generator (not supported in the browser yet),\n",
              "// where there are multiple asynchronous steps and the Python side is going\n",
              "// to poll for completion of each step.\n",
              "// This uses a Promise to block the python side on completion of each step,\n",
              "// then passes the result of the previous step as the input to the next step.\n",
              "function _uploadFilesContinue(outputId) {\n",
              "  const outputElement = document.getElementById(outputId);\n",
              "  const steps = outputElement.steps;\n",
              "\n",
              "  const next = steps.next(outputElement.lastPromiseValue);\n",
              "  return Promise.resolve(next.value.promise).then((value) => {\n",
              "    // Cache the last promise value to make it available to the next\n",
              "    // step of the generator.\n",
              "    outputElement.lastPromiseValue = value;\n",
              "    return next.value.response;\n",
              "  });\n",
              "}\n",
              "\n",
              "/**\n",
              " * Generator function which is called between each async step of the upload\n",
              " * process.\n",
              " * @param {string} inputId Element ID of the input file picker element.\n",
              " * @param {string} outputId Element ID of the output display.\n",
              " * @return {!Iterable<!Object>} Iterable of next steps.\n",
              " */\n",
              "function* uploadFilesStep(inputId, outputId) {\n",
              "  const inputElement = document.getElementById(inputId);\n",
              "  inputElement.disabled = false;\n",
              "\n",
              "  const outputElement = document.getElementById(outputId);\n",
              "  outputElement.innerHTML = '';\n",
              "\n",
              "  const pickedPromise = new Promise((resolve) => {\n",
              "    inputElement.addEventListener('change', (e) => {\n",
              "      resolve(e.target.files);\n",
              "    });\n",
              "  });\n",
              "\n",
              "  const cancel = document.createElement('button');\n",
              "  inputElement.parentElement.appendChild(cancel);\n",
              "  cancel.textContent = 'Cancel upload';\n",
              "  const cancelPromise = new Promise((resolve) => {\n",
              "    cancel.onclick = () => {\n",
              "      resolve(null);\n",
              "    };\n",
              "  });\n",
              "\n",
              "  // Wait for the user to pick the files.\n",
              "  const files = yield {\n",
              "    promise: Promise.race([pickedPromise, cancelPromise]),\n",
              "    response: {\n",
              "      action: 'starting',\n",
              "    }\n",
              "  };\n",
              "\n",
              "  cancel.remove();\n",
              "\n",
              "  // Disable the input element since further picks are not allowed.\n",
              "  inputElement.disabled = true;\n",
              "\n",
              "  if (!files) {\n",
              "    return {\n",
              "      response: {\n",
              "        action: 'complete',\n",
              "      }\n",
              "    };\n",
              "  }\n",
              "\n",
              "  for (const file of files) {\n",
              "    const li = document.createElement('li');\n",
              "    li.append(span(file.name, {fontWeight: 'bold'}));\n",
              "    li.append(span(\n",
              "        `(${file.type || 'n/a'}) - ${file.size} bytes, ` +\n",
              "        `last modified: ${\n",
              "            file.lastModifiedDate ? file.lastModifiedDate.toLocaleDateString() :\n",
              "                                    'n/a'} - `));\n",
              "    const percent = span('0% done');\n",
              "    li.appendChild(percent);\n",
              "\n",
              "    outputElement.appendChild(li);\n",
              "\n",
              "    const fileDataPromise = new Promise((resolve) => {\n",
              "      const reader = new FileReader();\n",
              "      reader.onload = (e) => {\n",
              "        resolve(e.target.result);\n",
              "      };\n",
              "      reader.readAsArrayBuffer(file);\n",
              "    });\n",
              "    // Wait for the data to be ready.\n",
              "    let fileData = yield {\n",
              "      promise: fileDataPromise,\n",
              "      response: {\n",
              "        action: 'continue',\n",
              "      }\n",
              "    };\n",
              "\n",
              "    // Use a chunked sending to avoid message size limits. See b/62115660.\n",
              "    let position = 0;\n",
              "    do {\n",
              "      const length = Math.min(fileData.byteLength - position, MAX_PAYLOAD_SIZE);\n",
              "      const chunk = new Uint8Array(fileData, position, length);\n",
              "      position += length;\n",
              "\n",
              "      const base64 = btoa(String.fromCharCode.apply(null, chunk));\n",
              "      yield {\n",
              "        response: {\n",
              "          action: 'append',\n",
              "          file: file.name,\n",
              "          data: base64,\n",
              "        },\n",
              "      };\n",
              "\n",
              "      let percentDone = fileData.byteLength === 0 ?\n",
              "          100 :\n",
              "          Math.round((position / fileData.byteLength) * 100);\n",
              "      percent.textContent = `${percentDone}% done`;\n",
              "\n",
              "    } while (position < fileData.byteLength);\n",
              "  }\n",
              "\n",
              "  // All done.\n",
              "  yield {\n",
              "    response: {\n",
              "      action: 'complete',\n",
              "    }\n",
              "  };\n",
              "}\n",
              "\n",
              "scope.google = scope.google || {};\n",
              "scope.google.colab = scope.google.colab || {};\n",
              "scope.google.colab._files = {\n",
              "  _uploadFiles,\n",
              "  _uploadFilesContinue,\n",
              "};\n",
              "})(self);\n",
              "</script> "
            ],
            "text/plain": [
              "<IPython.core.display.HTML object>"
            ]
          },
          "metadata": {},
          "output_type": "display_data"
        }
      ],
      "source": [
        "from google.colab import files\n",
        "\n",
        "uploaded = files.upload()\n",
        "\n",
        "for fn in uploaded.keys():\n",
        "  print('User uploaded file \"{name}\" with length {length} bytes'.format(\n",
        "      name=fn, length=len(uploaded[fn])))"
      ]
    },
    {
      "cell_type": "markdown",
      "metadata": {
        "id": "X4VmP3g-At9F"
      },
      "source": [
        "### Step 10 : Prediction on new class"
      ]
    },
    {
      "cell_type": "code",
      "execution_count": null,
      "metadata": {
        "id": "7LmaCJ9m9Jpb"
      },
      "outputs": [],
      "source": [
        "from keras.preprocessing import image\n",
        "import numpy as np"
      ]
    },
    {
      "cell_type": "code",
      "execution_count": null,
      "metadata": {
        "id": "cezxVvTu9ewc"
      },
      "outputs": [],
      "source": [
        "!wget https://www.dropbox.com/s/qr2girs8xh6ay8f/test_image.jpeg"
      ]
    },
    {
      "cell_type": "markdown",
      "metadata": {
        "id": "MI-QwN2nBkzF"
      },
      "source": [
        "<h4> Test Image </h4>\n",
        "<center><img src=\"https://www.dropbox.com/s/qr2girs8xh6ay8f/test_image.jpeg\" ></img></center>\n",
        "\n"
      ]
    },
    {
      "cell_type": "code",
      "execution_count": null,
      "metadata": {
        "id": "XFDq0zsu9YGL"
      },
      "outputs": [],
      "source": [
        "from keras.utils import load_img\n",
        "\n",
        "test_image = load_img('cat.jpg', target_size=(64,64))"
      ]
    },
    {
      "cell_type": "code",
      "execution_count": null,
      "metadata": {
        "id": "IJfnRuAg_QVF"
      },
      "outputs": [],
      "source": [
        "import keras.utils as image\n",
        "test_image = image.img_to_array(test_image)"
      ]
    },
    {
      "cell_type": "code",
      "execution_count": null,
      "metadata": {
        "id": "vWxY_Z5p_0z9"
      },
      "outputs": [],
      "source": [
        "test_image = np.expand_dims(test_image, axis=0)"
      ]
    },
    {
      "cell_type": "code",
      "execution_count": null,
      "metadata": {
        "id": "DKdqrb015LFr"
      },
      "outputs": [],
      "source": [
        "from IPython.display import Image\n",
        "Image(filename=\"cat.jpg\")"
      ]
    },
    {
      "cell_type": "code",
      "execution_count": null,
      "metadata": {
        "id": "JBJT87gH_sD6"
      },
      "outputs": [],
      "source": [
        "result = classifier.predict(test_image)"
      ]
    },
    {
      "cell_type": "code",
      "execution_count": null,
      "metadata": {
        "id": "N2vVAlm0_wc3"
      },
      "outputs": [],
      "source": [
        "training_set.class_indices"
      ]
    },
    {
      "cell_type": "code",
      "execution_count": null,
      "metadata": {
        "id": "wAtGtIAHxxFK"
      },
      "outputs": [],
      "source": [
        " result"
      ]
    },
    {
      "cell_type": "code",
      "execution_count": null,
      "metadata": {
        "id": "Cg7PpF99ALPo"
      },
      "outputs": [],
      "source": [
        "if result[0][0] == 0:\n",
        "  print(\"Cat\")\n",
        "else:\n",
        "  print(\"Dog\")"
      ]
    },
    {
      "cell_type": "code",
      "execution_count": null,
      "metadata": {
        "id": "S_6dh1GTENNF"
      },
      "outputs": [],
      "source": [
        "type(result)"
      ]
    },
    {
      "cell_type": "code",
      "execution_count": null,
      "metadata": {
        "id": "eapX0AfDERwQ"
      },
      "outputs": [],
      "source": [
        "result"
      ]
    },
    {
      "cell_type": "markdown",
      "metadata": {
        "id": "GYpWfYcBB3cA"
      },
      "source": [
        "<h3><center>The End</center></h3>"
      ]
    }
  ],
  "metadata": {
    "accelerator": "GPU",
    "colab": {
      "provenance": [],
      "include_colab_link": true
    },
    "gpuClass": "standard",
    "kernelspec": {
      "display_name": "Python 3",
      "language": "python",
      "name": "python3"
    }
  },
  "nbformat": 4,
  "nbformat_minor": 0
}